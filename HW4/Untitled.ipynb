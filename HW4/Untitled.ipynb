{
 "cells": [
  {
   "cell_type": "markdown",
   "metadata": {},
   "source": [
    "# This notebook is for HW4"
   ]
  },
  {
   "cell_type": "markdown",
   "metadata": {},
   "source": [
    "# This is to ask the user to input a string and then the output will be the reverse:"
   ]
  },
  {
   "cell_type": "code",
   "execution_count": 25,
   "metadata": {},
   "outputs": [
    {
     "name": "stdout",
     "output_type": "stream",
     "text": [
      "What are your favorite animal?\tbunny\n",
      "ynnub\n"
     ]
    }
   ],
   "source": [
    "userinfo = input(str('What are your favorite animal?\\t'))\n",
    "infoprint = userinfo[::-1]\n",
    "print(infoprint)\n",
    "\n",
    "\n",
    "                           \n",
    "                                                      "
   ]
  },
  {
   "cell_type": "markdown",
   "metadata": {},
   "source": [
    "# This is a list and asking the user to input a number and adding it at the end of the list and then output the average of the 4 numbers"
   ]
  },
  {
   "cell_type": "code",
   "execution_count": 33,
   "metadata": {},
   "outputs": [
    {
     "name": "stdout",
     "output_type": "stream",
     "text": [
      "what number do you want to add to my list?\t5\n",
      "2.75\n"
     ]
    }
   ],
   "source": [
    "mylist = [1, 2, 3]\n",
    "userinput = int(input('what number do you want to add to my list?\\t'))\n",
    "mylist.append(userinput)\n",
    "print(sum(mylist)/4)\n",
    "\n"
   ]
  },
  {
   "cell_type": "markdown",
   "metadata": {},
   "source": [
    "# This is using math to output the area of a circle given the radius by the user"
   ]
  },
  {
   "cell_type": "code",
   "execution_count": 44,
   "metadata": {},
   "outputs": [
    {
     "name": "stdout",
     "output_type": "stream",
     "text": [
      "what is the radius of your circle?\t5\n",
      "the area of a circle with the radius of:\t5.0\tis:\n",
      "78.53981633974483\n"
     ]
    }
   ],
   "source": [
    "r = float(input('what is the radius of your circle?\\t'))\n",
    "from math import pi\n",
    "print(\"the area of a circle with the radius of:\\t\" + str(r)   +   \"\\tis:\\n\" +  str(pi * r**2 ))"
   ]
  },
  {
   "cell_type": "code",
   "execution_count": 63,
   "metadata": {},
   "outputs": [
    {
     "name": "stdout",
     "output_type": "stream",
     "text": [
      "what is your favorite number?\t11\n",
      "e raised to the 11.0th power is: 59874.14171519778\n",
      " the natural log of 59874.14171519778 is 11.0\n",
      " the common log of 59874.14171519778 is 4.777239300935769\n"
     ]
    }
   ],
   "source": [
    "x = float(input(\"what is your favorite number?\\t\"))\n",
    "import math\n",
    "y = e**(x)\n",
    "natlog = math.log(y)\n",
    "comlog = math.log(y, 10)\n",
    "print(\"e raised to the {}th power is: {}\\n the natural log of {} is {}\\n the common log of {} is {}\".format(x, y, y, natlog, y, comlog))\n"
   ]
  },
  {
   "cell_type": "code",
   "execution_count": null,
   "metadata": {},
   "outputs": [],
   "source": []
  }
 ],
 "metadata": {
  "kernelspec": {
   "display_name": "Python 3",
   "language": "python",
   "name": "python3"
  },
  "language_info": {
   "codemirror_mode": {
    "name": "ipython",
    "version": 3
   },
   "file_extension": ".py",
   "mimetype": "text/x-python",
   "name": "python",
   "nbconvert_exporter": "python",
   "pygments_lexer": "ipython3",
   "version": "3.7.3"
  }
 },
 "nbformat": 4,
 "nbformat_minor": 2
}
