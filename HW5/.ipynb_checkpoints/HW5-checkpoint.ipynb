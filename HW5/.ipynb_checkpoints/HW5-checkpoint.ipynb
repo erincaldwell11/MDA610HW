{
 "cells": [
  {
   "cell_type": "markdown",
   "metadata": {},
   "source": [
    "# this inputs a score and returns a letter grade"
   ]
  },
  {
   "cell_type": "code",
   "execution_count": null,
   "metadata": {},
   "outputs": [],
   "source": [
    "score = int(input('What is your score?\\t'))\n",
    "\n",
    "def finalscore(score):\n",
    "    if score >= 90:\n",
    "    grade =  \"A\"\n",
    "elif 90 > score >=80:\n",
    "    grade = \"B\"\n",
    "elif 80 > score >=70:\n",
    "    grade = \"C\"\n",
    "elif 70 > score >=60:\n",
    "    grade = \"D\"\n",
    "elif 60 > score:\n",
    "    grade = \"F\"\n",
    "    return grade\n"
   ]
  },
  {
   "cell_type": "code",
   "execution_count": 14,
   "metadata": {},
   "outputs": [
    {
     "ename": "SyntaxError",
     "evalue": "invalid syntax (<ipython-input-14-f1cf6c0b2ac4>, line 1)",
     "output_type": "error",
     "traceback": [
      "\u001b[0;36m  File \u001b[0;32m\"<ipython-input-14-f1cf6c0b2ac4>\"\u001b[0;36m, line \u001b[0;32m1\u001b[0m\n\u001b[0;31m    def ?? (??):\u001b[0m\n\u001b[0m        ^\u001b[0m\n\u001b[0;31mSyntaxError\u001b[0m\u001b[0;31m:\u001b[0m invalid syntax\n"
     ]
    }
   ],
   "source": [
    "def ?? (??):\n",
    "    if grade >= 90 and <= 100:\n",
    "        return(\"You received an A\")\n",
    "\n",
    "    elif grade >= 80 and < 90:\n",
    "        return(\"You received a B\")\n",
    "\n",
    "    elif grade >= 70 and < 80:\n",
    "        return(\"You received a C\")\n",
    "\n",
    "    elif grade >= 60 and < 70:\n",
    "        return(\"You received a D\")\n",
    "\n",
    "    else grade < 60:\n",
    "        return(\"Sorry, you received an F\")"
   ]
  },
  {
   "cell_type": "code",
   "execution_count": 16,
   "metadata": {},
   "outputs": [
    {
     "ename": "SyntaxError",
     "evalue": "invalid syntax (<ipython-input-16-68b87b941da4>, line 4)",
     "output_type": "error",
     "traceback": [
      "\u001b[0;36m  File \u001b[0;32m\"<ipython-input-16-68b87b941da4>\"\u001b[0;36m, line \u001b[0;32m4\u001b[0m\n\u001b[0;31m    elif 80 =< score < 90:\u001b[0m\n\u001b[0m            ^\u001b[0m\n\u001b[0;31mSyntaxError\u001b[0m\u001b[0;31m:\u001b[0m invalid syntax\n"
     ]
    }
   ],
   "source": [
    "\n",
    "score = int(input)\n",
    "if score > 90:\n",
    "    print(\"A\") \n",
    "elif 80 =< score < 90:\n",
    "    print (\"B\")\n",
    "elif 70 =< score < 80:\n",
    "    print (\"B\")\n",
    "elif 60 =< score < 70:\n",
    "    print (\"C\")\n",
    "else:\n",
    "    print (\"F\")"
   ]
  },
  {
   "cell_type": "code",
   "execution_count": null,
   "metadata": {},
   "outputs": [],
   "source": [
    "score = int(input)\n",
    "def assign_letter_grade(score): \n",
    "    if score >= 90: return \"A\"\n",
    "    elif score >= 80: return \"B\"\n",
    "    elif score >= 70: return \"C\"\n",
    "    elif score >= 60: return \"D\"\n",
    "    else : return \"E\""
   ]
  },
  {
   "cell_type": "code",
   "execution_count": null,
   "metadata": {},
   "outputs": [],
   "source": [
    "score = int(input('what is your score?\\t'))\n",
    "if score >= 90:\n",
    "    print(\"A\")\n",
    "    elif 90 > score >= 80:\n",
    "        print(\"B\")"
   ]
  },
  {
   "cell_type": "code",
   "execution_count": null,
   "metadata": {},
   "outputs": [],
   "source": []
  }
 ],
 "metadata": {
  "kernelspec": {
   "display_name": "Python 3",
   "language": "python",
   "name": "python3"
  },
  "language_info": {
   "codemirror_mode": {
    "name": "ipython",
    "version": 3
   },
   "file_extension": ".py",
   "mimetype": "text/x-python",
   "name": "python",
   "nbconvert_exporter": "python",
   "pygments_lexer": "ipython3",
   "version": "3.7.3"
  }
 },
 "nbformat": 4,
 "nbformat_minor": 2
}
