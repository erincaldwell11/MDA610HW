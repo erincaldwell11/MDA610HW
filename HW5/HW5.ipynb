{
 "cells": [
  {
   "cell_type": "markdown",
   "metadata": {},
   "source": [
    "# this inputs a score and returns a letter grade"
   ]
  },
  {
   "cell_type": "code",
   "execution_count": null,
   "metadata": {},
   "outputs": [],
   "source": [
    "def get_grade(get_letter_grade):\n",
    "    if get_letter_grade >= 89.5:\n",
    "        return \"A\"\n",
    "    elif get_letter_grade <= 89.49 and get_letter_grade >= 79.5:\n",
    "        return \"B\"\n",
    "    elif get_letter_grade <= 79.49 and get_letter_grade >= 69.5:\n",
    "        return \"C\"\n",
    "    elif get_letter_grade <= 69.49 and get_letter_grade >= 59.5:\n",
    "        return \"D\"\n",
    "    else:\n",
    "        return \"F\"\n",
    "get_grade(75)"
   ]
  },
  {
   "cell_type": "code",
   "execution_count": null,
   "metadata": {},
   "outputs": [],
   "source": []
  }
 ],
 "metadata": {
  "kernelspec": {
   "display_name": "Python 3",
   "language": "python",
   "name": "python3"
  },
  "language_info": {
   "codemirror_mode": {
    "name": "ipython",
    "version": 3
   },
   "file_extension": ".py",
   "mimetype": "text/x-python",
   "name": "python",
   "nbconvert_exporter": "python",
   "pygments_lexer": "ipython3",
   "version": "3.7.3"
  }
 },
 "nbformat": 4,
 "nbformat_minor": 2
}
