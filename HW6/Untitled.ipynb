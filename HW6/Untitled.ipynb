{
 "cells": [
  {
   "cell_type": "code",
   "execution_count": 1,
   "metadata": {},
   "outputs": [
    {
     "data": {
      "text/plain": [
       "{'e': 3, 'r': 1, 'i': 2, 'n': 1, 's': 2, 't': 2, 'h': 1, 'b': 1}"
      ]
     },
     "execution_count": 1,
     "metadata": {},
     "output_type": "execute_result"
    }
   ],
   "source": [
    "def freq(x):\n",
    "    n = {}\n",
    "    for char in x:\n",
    "        if char not in n:\n",
    "            n[char] = 1\n",
    "        else:\n",
    "            n[char] += 1\n",
    "    return n\n",
    "\n",
    "a = 'erinisthebest'\n",
    "freq(a)"
   ]
  },
  {
   "cell_type": "code",
   "execution_count": 3,
   "metadata": {},
   "outputs": [
    {
     "name": "stdout",
     "output_type": "stream",
     "text": [
      "min is: -2 \n",
      "max is: 10\n"
     ]
    }
   ],
   "source": [
    "def min_and_max(x):\n",
    "    m = min(x)\n",
    "    n = max(x)\n",
    "    print('min is: '+str(m),'\\nmax is: '+str(n))\n",
    "\n",
    "b = (2, 4, 6, 8, 10, 1, 2, 3, 4, 0, -1, -2)\n",
    "min_and_max(b)"
   ]
  },
  {
   "cell_type": "code",
   "execution_count": 4,
   "metadata": {},
   "outputs": [
    {
     "data": {
      "text/plain": [
       "[1, 3, 6, 11, 19, 28, 39, 52, 66]"
      ]
     },
     "execution_count": 4,
     "metadata": {},
     "output_type": "execute_result"
    }
   ],
   "source": [
    "def cum_sum(x):\n",
    "    for i in range(len(x)):\n",
    "        if i == 0:\n",
    "            x[i]=x[i]\n",
    "        else:\n",
    "            x[i]=x[i-1]+x[i]\n",
    "    return x\n",
    "\n",
    "c = [1, 2, 3, 5, 8, 9, 11, 13, 14]\n",
    "cum_sum(c)"
   ]
  },
  {
   "cell_type": "code",
   "execution_count": 6,
   "metadata": {},
   "outputs": [
    {
     "data": {
      "text/plain": [
       "78"
      ]
     },
     "execution_count": 6,
     "metadata": {},
     "output_type": "execute_result"
    }
   ],
   "source": [
    "def dot(x,y):\n",
    "    if len(x) == len(y):\n",
    "        sum = 0\n",
    "        for i in range(len(x)):\n",
    "            n = x[i]*y[i]\n",
    "            sum += n\n",
    "        return sum\n",
    "            \n",
    "    else:\n",
    "        print('!!Error!!: List Length is not equal')\n",
    "\n",
    "x = [1, 2, 3, 5, 6, 7]\n",
    "y = [4, 6, 8, 2, 0, 4]\n",
    "dot(x,y)"
   ]
  },
  {
   "cell_type": "code",
   "execution_count": null,
   "metadata": {},
   "outputs": [],
   "source": []
  }
 ],
 "metadata": {
  "kernelspec": {
   "display_name": "Python 3",
   "language": "python",
   "name": "python3"
  },
  "language_info": {
   "codemirror_mode": {
    "name": "ipython",
    "version": 3
   },
   "file_extension": ".py",
   "mimetype": "text/x-python",
   "name": "python",
   "nbconvert_exporter": "python",
   "pygments_lexer": "ipython3",
   "version": "3.7.3"
  }
 },
 "nbformat": 4,
 "nbformat_minor": 2
}
