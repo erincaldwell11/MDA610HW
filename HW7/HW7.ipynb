{
 "cells": [
  {
   "cell_type": "code",
   "execution_count": 18,
   "metadata": {},
   "outputs": [
    {
     "data": {
      "text/plain": [
       "{'Mean:': 4.230769230769231,\n",
       " 'Variance': 6.177514792899408,\n",
       " 'Std': 2.4854606802159247}"
      ]
     },
     "execution_count": 18,
     "metadata": {},
     "output_type": "execute_result"
    }
   ],
   "source": [
    "def mean_var_std(x):\n",
    "    import numpy as np\n",
    "    ans_dict={}\n",
    "    ans_name_list=['Mean:','Variance','Std']\n",
    "    m = np.mean(x)\n",
    "    v = np.var(x)\n",
    "    s = np.std(x)\n",
    "    ans_values_list=[m,v,s]\n",
    "    for i in range(len(ans_name_list)):\n",
    "        ans_dict[ans_name_list[i]]=ans_values_list[i]\n",
    "    return ans_dict\n",
    "\n",
    "x = [1, 2, 3, 4, 6, 8, 3, 4, 5, 9, 0, 4, 6]\n",
    "mean_var_std(x)"
   ]
  },
  {
   "cell_type": "code",
   "execution_count": 17,
   "metadata": {},
   "outputs": [
    {
     "name": "stdout",
     "output_type": "stream",
     "text": [
      "Enter a series of numbers or type \"Stop\" to quit 1\n",
      "Enter a series of numbers or type \"Stop\" to quit 2\n",
      "Enter a series of numbers or type \"Stop\" to quit 3\n",
      "Enter a series of numbers or type \"Stop\" to quit 4\n",
      "Enter a series of numbers or type \"Stop\" to quit 5\n",
      "Enter a series of numbers or type \"Stop\" to quit 6\n",
      "Enter a series of numbers or type \"Stop\" to quit 7\n",
      "Enter a series of numbers or type \"Stop\" to quit stop\n",
      "The mean of numbers input is: 4.0\n"
     ]
    }
   ],
   "source": [
    "import numpy as np\n",
    "try:\n",
    "    l = []\n",
    "    while True:\n",
    "        l.append(int(input('Enter a series of numbers or type \"Stop\" to quit ')))\n",
    "except:\n",
    "    print('The mean of numbers input is: '+str(np.mean(l)))\n",
    "    "
   ]
  },
  {
   "cell_type": "code",
   "execution_count": null,
   "metadata": {},
   "outputs": [],
   "source": []
  }
 ],
 "metadata": {
  "kernelspec": {
   "display_name": "Python 3",
   "language": "python",
   "name": "python3"
  },
  "language_info": {
   "codemirror_mode": {
    "name": "ipython",
    "version": 3
   },
   "file_extension": ".py",
   "mimetype": "text/x-python",
   "name": "python",
   "nbconvert_exporter": "python",
   "pygments_lexer": "ipython3",
   "version": "3.7.3"
  }
 },
 "nbformat": 4,
 "nbformat_minor": 2
}
